{
 "cells": [
  {
   "cell_type": "markdown",
   "id": "439f80c7",
   "metadata": {},
   "source": [
    "# single object data extraction"
   ]
  },
  {
   "cell_type": "code",
   "execution_count": 65,
   "id": "f9130c83",
   "metadata": {},
   "outputs": [],
   "source": [
    "import xml.etree.ElementTree as elemTree\n",
    "from pathlib import Path\n",
    "from shutil import copyfile"
   ]
  },
  {
   "cell_type": "code",
   "execution_count": 66,
   "id": "4dfa28e7",
   "metadata": {},
   "outputs": [],
   "source": [
    "# 모든 파일 경로 수집\n",
    "\n",
    "origin_path = {}\n",
    "origin_path[\"root\"] = Path(\"C:/MH/게이즈/data/origin/VOCdevkit/VOC2012\")\n",
    "origin_path[\"image\"] = origin_path[\"root\"]/\"JPEGImages\"\n",
    "origin_path[\"segmentation\"] = origin_path[\"root\"]/\"SegmentationObject\"\n",
    "origin_path[\"annotation\"] = origin_path[\"root\"]/\"Annotations\"\n",
    "\n",
    "target_path = {}\n",
    "target_path[\"root\"] = Path(\"C:/MH/게이즈/data/single\")\n",
    "target_path[\"image\"] = target_path[\"root\"]/\"image\"\n",
    "target_path[\"segmentation\"] = target_path[\"root\"]/\"segmentation\"\n",
    "target_path[\"annotation\"] = target_path[\"root\"]/\"annotation\""
   ]
  },
  {
   "cell_type": "code",
   "execution_count": 67,
   "id": "5c331a58",
   "metadata": {},
   "outputs": [],
   "source": [
    "# 대상 경로 생성\n",
    "for path in target_path.values():\n",
    "    path.mkdir(parents = True, exist_ok=True)"
   ]
  },
  {
   "cell_type": "code",
   "execution_count": 68,
   "id": "b04e5cb8",
   "metadata": {},
   "outputs": [],
   "source": [
    "# 이미지, 어노테이션, 세그먼테이션 데이터를 모두 만족하는 파일 이름만\n",
    "\n",
    "file_name = {}\n",
    "keys = [\"image\", \"segmentation\", \"annotation\"]\n",
    "for key in keys:\n",
    "    file_name[key] = [x.stem for x in origin_path[key].iterdir()]    \n",
    "\n",
    "used_file_names =  list(set(file_name[keys[0]]) & set(file_name[keys[1]]) & set(file_name[keys[2]]))"
   ]
  },
  {
   "cell_type": "code",
   "execution_count": 69,
   "id": "4ac01e1e",
   "metadata": {},
   "outputs": [
    {
     "name": "stdout",
     "output_type": "stream",
     "text": [
      "1389\n"
     ]
    }
   ],
   "source": [
    "# single object 데이터 파일 이름만 추출\n",
    "single_file_names = []\n",
    "for file_name in used_file_names:\n",
    "    tree = elemTree.parse('C:/MH/게이즈/data/origin/VOCdevkit/VOC2012/Annotations/%s.xml'%file_name)\n",
    "    if len(tree.findall(\"object\")) == 1:\n",
    "        single_file_names.append(file_name)\n",
    "print(len(single_file_names))"
   ]
  },
  {
   "cell_type": "code",
   "execution_count": 70,
   "id": "5ce67b4b",
   "metadata": {},
   "outputs": [],
   "source": [
    "# single object 데이터 파일만, image, segmentation, annotation 복사\n",
    "single_file_names\n",
    "\n",
    "for file_name in single_file_names:\n",
    "    source = origin_path[\"image\"]/(file_name+\".jpg\")\n",
    "    dest = target_path[\"image\"]/(file_name+\".jpg\")\n",
    "    copyfile(source, dest)\n",
    "    \n",
    "    source = origin_path[\"segmentation\"]/(file_name+\".png\")\n",
    "    dest = target_path[\"segmentation\"]/(file_name+\".png\")\n",
    "    copyfile(source, dest)\n",
    "    \n",
    "    source = origin_path[\"annotation\"]/(file_name+\".xml\")\n",
    "    dest = target_path[\"annotation\"]/(file_name+\".xml\")\n",
    "    copyfile(source, dest)"
   ]
  }
 ],
 "metadata": {
  "kernelspec": {
   "display_name": "Python 3 (ipykernel)",
   "language": "python",
   "name": "python3"
  },
  "language_info": {
   "codemirror_mode": {
    "name": "ipython",
    "version": 3
   },
   "file_extension": ".py",
   "mimetype": "text/x-python",
   "name": "python",
   "nbconvert_exporter": "python",
   "pygments_lexer": "ipython3",
   "version": "3.9.12"
  }
 },
 "nbformat": 4,
 "nbformat_minor": 5
}
