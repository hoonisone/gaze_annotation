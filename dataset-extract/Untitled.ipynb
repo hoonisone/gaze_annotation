{
 "cells": [
  {
   "cell_type": "code",
   "execution_count": 15,
   "id": "540363b1",
   "metadata": {},
   "outputs": [],
   "source": [
    "from pathlib import Path\n",
    "from shutil import copyfile"
   ]
  },
  {
   "cell_type": "code",
   "execution_count": 22,
   "id": "df92f570",
   "metadata": {},
   "outputs": [],
   "source": [
    "# 경로 정리\n",
    "origin_dir_path = {}\n",
    "origin_dir_path[\"root\"] = Path(\"C:/MH/게이즈/data/origin/VOCdevkit/VOC2012/\")\n",
    "origin_dir_path[\"image\"] = origin_dir_path[\"root\"]/\"JPEGImages\"\n",
    "origin_dir_path[\"annotation\"] = origin_dir_path[\"root\"]/\"Annotations\"\n",
    "origin_dir_path[\"segmentation\"] = origin_dir_path[\"root\"]/\"SegmentationObject\"\n",
    "\n",
    "target_dir_path = {}\n",
    "target_dir_path[\"root\"] = Path(\"C:/MH/게이즈/data/final/\")\n",
    "target_dir_path[\"image\"] = target_dir_path[\"root\"] / \"image\"\n",
    "target_dir_path[\"annotation\"] = target_dir_path[\"root\"]/ \"annotation\"\n",
    "target_dir_path[\"segmentation\"] = target_dir_path[\"root\"] / \"segmentation\""
   ]
  },
  {
   "cell_type": "code",
   "execution_count": 23,
   "id": "46e31d26",
   "metadata": {},
   "outputs": [],
   "source": [
    "# 대상 경로 생성\n",
    "for path in target_dir_path.values():\n",
    "    path.mkdir(parents = True, exist_ok=True)"
   ]
  },
  {
   "cell_type": "code",
   "execution_count": 24,
   "id": "e5ec62c9",
   "metadata": {},
   "outputs": [],
   "source": [
    "# 선택 된 이미지들에 대해 나머지 대응 데이터 복사\n",
    "file_names = [x.stem for x in Path(target_dir_path[\"image\"]).iterdir()]\n",
    "\n",
    "for file_name in file_names:\n",
    "    source = origin_dir_path[\"segmentation\"]/(file_name+\".png\")\n",
    "    dest = target_dir_path[\"segmentation\"]/(file_name+\".png\")\n",
    "    copyfile(source, dest)\n",
    "    \n",
    "    source = origin_dir_path[\"annotation\"]/(file_name+\".xml\")\n",
    "    dest = target_dir_path[\"annotation\"]/(file_name+\".xml\")\n",
    "    copyfile(source, dest)\n"
   ]
  }
 ],
 "metadata": {
  "kernelspec": {
   "display_name": "Python 3 (ipykernel)",
   "language": "python",
   "name": "python3"
  },
  "language_info": {
   "codemirror_mode": {
    "name": "ipython",
    "version": 3
   },
   "file_extension": ".py",
   "mimetype": "text/x-python",
   "name": "python",
   "nbconvert_exporter": "python",
   "pygments_lexer": "ipython3",
   "version": "3.9.12"
  }
 },
 "nbformat": 4,
 "nbformat_minor": 5
}
